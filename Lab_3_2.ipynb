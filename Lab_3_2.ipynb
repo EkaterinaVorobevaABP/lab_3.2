{
  "nbformat": 4,
  "nbformat_minor": 0,
  "metadata": {
    "colab": {
      "provenance": [],
      "authorship_tag": "ABX9TyMJizeavi6y0QEKxkV/+Ylo",
      "include_colab_link": true
    },
    "kernelspec": {
      "name": "python3",
      "display_name": "Python 3"
    },
    "language_info": {
      "name": "python"
    }
  },
  "cells": [
    {
      "cell_type": "markdown",
      "metadata": {
        "id": "view-in-github",
        "colab_type": "text"
      },
      "source": [
        "<a href=\"https://colab.research.google.com/github/EkaterinaVorobevaABP/lab_3.2/blob/main/Lab_3_2.ipynb\" target=\"_parent\"><img src=\"https://colab.research.google.com/assets/colab-badge.svg\" alt=\"Open In Colab\"/></a>"
      ]
    },
    {
      "cell_type": "markdown",
      "source": [
        "**1. Напишите функцию, которая инвертирует словарь, меняя местами ключи и\n",
        "значения.**"
      ],
      "metadata": {
        "id": "JNN77UUle0o3"
      }
    },
    {
      "cell_type": "code",
      "execution_count": null,
      "metadata": {
        "colab": {
          "base_uri": "https://localhost:8080/"
        },
        "id": "5bzsXoTraLrw",
        "outputId": "445b3672-d3c3-40fc-8079-72a79fc5def4"
      },
      "outputs": [
        {
          "output_type": "stream",
          "name": "stdout",
          "text": [
            "{'A123': 'Laptop', 'B456': 'Mouse', 'C789': 'Keyboard'}\n"
          ]
        }
      ],
      "source": [
        "def invert_dictionary(d):\n",
        "    \"\"\"Инвертировать словарь 'd', поменяв ключи и значения местами.\n",
        "\n",
        "    Параметры:\n",
        "        - d (dict): исходный словарь.\n",
        "\n",
        "    Результат:\n",
        "        - dict: инвертированный словарь.\"\"\"\n",
        "    return {value: key for key,value in d.items()}\n",
        "\n",
        "\n",
        "product_codes = {'Laptop': 'A123', 'Mouse': 'B456', 'Keyboard': 'C789'}\n",
        "print(invert_dictionary(product_codes))\n"
      ]
    },
    {
      "cell_type": "markdown",
      "source": [
        "**2. Напишите функцию для подсчета частоты встречаемости каждого символа в\n",
        "строке с использованием словаря.**"
      ],
      "metadata": {
        "id": "BjJLfQrxjeih"
      }
    },
    {
      "cell_type": "code",
      "source": [
        "def count_char_frequency(s):\n",
        "    \"\"\"Подсчитать частоту каждого символа в строке 's'.\n",
        "\n",
        "    Параметры:\n",
        "        - s (str): исходная строка.\n",
        "\n",
        "    Результат:\n",
        "        - dict: словарь с частотами символов.\"\"\"\n",
        "    c = 0\n",
        "    res = dict()\n",
        "    for i in s:\n",
        "      if i in res:\n",
        "        res[i] += 1\n",
        "      else:\n",
        "        res[i] = 1\n",
        "    return res\n",
        "\n",
        "print(count_char_frequency(\"hello world\"))"
      ],
      "metadata": {
        "colab": {
          "base_uri": "https://localhost:8080/"
        },
        "id": "CU0lDAthjeGG",
        "outputId": "2d4b6eff-0f8f-49a0-c375-8aab3c46d931"
      },
      "execution_count": null,
      "outputs": [
        {
          "output_type": "stream",
          "name": "stdout",
          "text": [
            "{'h': 1, 'e': 1, 'l': 3, 'o': 2, ' ': 1, 'w': 1, 'r': 1, 'd': 1}\n"
          ]
        }
      ]
    },
    {
      "cell_type": "code",
      "source": [
        "from collections import Counter\n",
        "\n",
        "def count_char_frequency(s):\n",
        "  return dict(Counter(s))\n",
        "\n",
        "\n",
        "print(count_char_frequency(\"hello world\"))\n"
      ],
      "metadata": {
        "colab": {
          "base_uri": "https://localhost:8080/"
        },
        "id": "wiBZIlpdkJgb",
        "outputId": "7b45f860-367d-411b-e6b9-860d03dff5bd"
      },
      "execution_count": null,
      "outputs": [
        {
          "output_type": "stream",
          "name": "stdout",
          "text": [
            "{'h': 1, 'e': 1, 'l': 3, 'o': 2, ' ': 1, 'w': 1, 'r': 1, 'd': 1}\n"
          ]
        }
      ]
    },
    {
      "cell_type": "markdown",
      "source": [
        "**3. Напишите функцию, которая находит общие элементы в двух списках,\n",
        "используя множества.**\n"
      ],
      "metadata": {
        "id": "X0GNjeX3mKsn"
      }
    },
    {
      "cell_type": "code",
      "source": [
        "def find_common_elements(list1, list2):\n",
        "    \"\"\"Найти общие элементы в 'list1' и 'list2'.\n",
        "\n",
        "    Параметры:\n",
        "        - list1 (list): первый список.\n",
        "        - list2 (list): второй список.\n",
        "\n",
        "    Результат:\n",
        "        - list: список общих элементов.\"\"\"\n",
        "    list1 = set(list1)\n",
        "    list2 = set(list2)\n",
        "    res = list1.intersection(list2)\n",
        "    return list(res)\n",
        "\n",
        "\n",
        "clients1 = [\"Иванов\", \"Петров\", \"Сидоров\", \"Алексеев\"]\n",
        "clients2 = [\"Сидоров\", \"Кузнецов\", \"Иванов\", \"Попов\"]\n",
        "print(find_common_elements(clients1, clients2))"
      ],
      "metadata": {
        "colab": {
          "base_uri": "https://localhost:8080/"
        },
        "id": "EzHXr9M4mK6c",
        "outputId": "6952f6f4-74b4-4484-8a1c-10b0fdec7539"
      },
      "execution_count": null,
      "outputs": [
        {
          "output_type": "stream",
          "name": "stdout",
          "text": [
            "['Сидоров', 'Иванов']\n"
          ]
        }
      ]
    },
    {
      "cell_type": "markdown",
      "source": [
        "**4. Напишите функцию, которая объединяет два словаря. Если ключ существует в\n",
        "обоих, значение из второго словаря должно заменить значение из первого**"
      ],
      "metadata": {
        "id": "h86Y95kpoJZU"
      }
    },
    {
      "cell_type": "code",
      "source": [
        "def merge_dictionaries(dict1, dict2):\n",
        "    \"\"\"Объединить два словаря 'dict1' и 'dict2'.\n",
        "\n",
        "    Параметры:\n",
        "        - dict1 (dict): первый словарь.\n",
        "        - dict2 (dict): второй словарь.\n",
        "\n",
        "    Результат:\n",
        "        - dict: объединенный словарь.\"\"\"\n",
        "    c = dict1.copy()\n",
        "    c.update(dict2)\n",
        "    return c\n",
        "\n",
        "\n",
        "prices1 = {'apple': 1.5, 'banana': 0.75}\n",
        "prices2 = {'banana': 0.85, 'orange': 1.25}\n",
        "print(merge_dictionaries(prices1, prices2))"
      ],
      "metadata": {
        "colab": {
          "base_uri": "https://localhost:8080/"
        },
        "id": "DT6MW2-EoJqE",
        "outputId": "254e3115-1592-493f-e21c-cf09d51bbb47"
      },
      "execution_count": null,
      "outputs": [
        {
          "output_type": "stream",
          "name": "stdout",
          "text": [
            "{'apple': 1.5, 'banana': 0.85, 'orange': 1.25}\n"
          ]
        }
      ]
    },
    {
      "cell_type": "code",
      "source": [
        "def merge_dictionaries(dict1, dict2):\n",
        "    \"\"\"Объединить два словаря 'dict1' и 'dict2'.\n",
        "\n",
        "    Параметры:\n",
        "        - dict1 (dict): первый словарь.\n",
        "        - dict2 (dict): второй словарь.\n",
        "\n",
        "    Результат:\n",
        "        - dict: объединенный словарь.\"\"\"\n",
        "    return dict1 | dict2\n",
        "\n",
        "\n",
        "prices1 = {'apple': 1.5, 'banana': 0.75}\n",
        "prices2 = {'banana': 0.85, 'orange': 1.25}\n",
        "print(merge_dictionaries(prices1, prices2))"
      ],
      "metadata": {
        "colab": {
          "base_uri": "https://localhost:8080/"
        },
        "id": "g4Vlx2z0qMsd",
        "outputId": "8faeb924-c2d4-43a5-b43b-6ec5dfd64cd2"
      },
      "execution_count": null,
      "outputs": [
        {
          "output_type": "stream",
          "name": "stdout",
          "text": [
            "{'apple': 1.5, 'banana': 0.85, 'orange': 1.25}\n"
          ]
        }
      ]
    },
    {
      "cell_type": "markdown",
      "source": [
        "**5. Напишите функцию, которая находит элементы, присутствующие в первом\n",
        "списке, но отсутствующие во втором, используя множества**"
      ],
      "metadata": {
        "id": "j_EiCVNOp_aV"
      }
    },
    {
      "cell_type": "code",
      "source": [
        "def find_difference(list1, list2):\n",
        "    \"\"\"Найти элементы, которые есть в 'list1', но нет в 'list2'.\n",
        "\n",
        "    Параметры:\n",
        "        - list1 (list): первый список.\n",
        "        - list2 (list): второй список.\n",
        "\n",
        "    Результат:\n",
        "        - list: список уникальных для 'list1' элементов.\"\"\"\n",
        "    s1 = set(list1)\n",
        "    s2 = set(list2)\n",
        "    res = s1.difference(s2)\n",
        "    return res\n",
        "\n",
        "\n",
        "\n",
        "\n",
        "skills_required = [\"python\", \"sql\", \"git\", \"data_analysis\"]\n",
        "skills_candidate = [\"python\", \"git\", \"excel\"]\n",
        "print(find_difference(skills_required, skills_candidate))\n"
      ],
      "metadata": {
        "colab": {
          "base_uri": "https://localhost:8080/"
        },
        "id": "LzwxE3u_p_J1",
        "outputId": "668faa41-c731-4568-c9a2-899433c24773"
      },
      "execution_count": null,
      "outputs": [
        {
          "output_type": "stream",
          "name": "stdout",
          "text": [
            "{'sql', 'data_analysis'}\n"
          ]
        }
      ]
    },
    {
      "cell_type": "markdown",
      "source": [
        "**6. Напишите функцию, которая принимает словарь с продуктами и их ценами, и\n",
        "возвращает список продуктов, цена которых выше заданной**"
      ],
      "metadata": {
        "id": "iYYzesU8uv-B"
      }
    },
    {
      "cell_type": "code",
      "source": [
        "def filter_by_price(products, price_limit):\n",
        "    \"\"\"Отфильтровать продукты по цене 'price_limit'.\n",
        "\n",
        "    Параметры:\n",
        "        - products (dict): словарь {продукт: цена}.\n",
        "        - price_limit (float): пороговая цена.\n",
        "\n",
        "    Результат:\n",
        "        - list: список продуктов, цена которых выше 'price_limit'.\"\"\"\n",
        "    res = []\n",
        "    for i in products.keys():\n",
        "      if products[i] > price_limit:\n",
        "        res.append(i)\n",
        "    return res\n",
        "\n",
        "product_prices = {'Laptop': 1200, 'Mouse': 25, 'Keyboard': 75, 'Monitor': 300}\n",
        "print(filter_by_price(product_prices, 100))\n"
      ],
      "metadata": {
        "colab": {
          "base_uri": "https://localhost:8080/"
        },
        "id": "rLMLUuKfuvHb",
        "outputId": "c26d35ab-4003-4527-e863-a14d445bc213"
      },
      "execution_count": null,
      "outputs": [
        {
          "output_type": "stream",
          "name": "stdout",
          "text": [
            "['Laptop', 'Monitor']\n"
          ]
        }
      ]
    },
    {
      "cell_type": "markdown",
      "source": [
        "**7. Напишите функцию, которая группирует список сотрудников по их отделу.**"
      ],
      "metadata": {
        "id": "ksmHAQeAv8AJ"
      }
    },
    {
      "cell_type": "code",
      "source": [
        "def group_by_department(employees):\n",
        "    \"\"\"Сгруппировать сотрудников 'employees' по отделам.\n",
        "\n",
        "    Параметры:\n",
        "        - employees (list): список кортежей (имя, отдел).\n",
        "\n",
        "    Результат:\n",
        "        - dict: словарь {отдел: [список имен]}.\"\"\"\n",
        "    res = {}\n",
        "    for k, v in employees:\n",
        "      if v not in res:\n",
        "        res[v] = []\n",
        "      res[v].append(k)\n",
        "    return res\n",
        "\n",
        "\n",
        "\n",
        "employee_list = [(\"Иванов\", \"IT\"), (\"Петров\", \"Sales\"), (\"Сидорова\", \"IT\"), (\"Кузнецов\", \"Marketing\"), (\"Алексеева\", \"Sales\")]\n",
        "print(group_by_department(employee_list))\n"
      ],
      "metadata": {
        "colab": {
          "base_uri": "https://localhost:8080/"
        },
        "id": "YIgIEF44v71p",
        "outputId": "80e691f8-2972-44fd-a034-0d3192f9543f"
      },
      "execution_count": null,
      "outputs": [
        {
          "output_type": "stream",
          "name": "stdout",
          "text": [
            "{'IT': ['Иванов', 'Сидорова'], 'Sales': ['Петров', 'Алексеева'], 'Marketing': ['Кузнецов']}\n"
          ]
        }
      ]
    },
    {
      "cell_type": "markdown",
      "source": [
        "**8. Напишите функцию для подсчета количества уникальных слов в тексте (без\n",
        "учета регистра).**"
      ],
      "metadata": {
        "id": "fFvdGxN5ythq"
      }
    },
    {
      "cell_type": "code",
      "source": [
        "import re\n",
        "def count_unique_words(text):\n",
        "    \"\"\"Подсчитать количество уникальных слов в 'text'.\n",
        "\n",
        "    Параметры:\n",
        "        - text (str): исходный текст.\n",
        "\n",
        "    Результат:\n",
        "        - int: количество уникальных слов.\"\"\"\n",
        "    text = text.lower()\n",
        "    clean = re.findall(r'\\b[а-яa-z]+\\b', text)\n",
        "    res = set(clean)\n",
        "    return len(res)\n",
        "\n",
        "text = \"Это пример текста для примера подсчета уникальных слов. Текста для примера.\"\n",
        "print(count_unique_words(text))"
      ],
      "metadata": {
        "colab": {
          "base_uri": "https://localhost:8080/"
        },
        "id": "olmcZeY5yytl",
        "outputId": "237f9ed1-7c72-47e8-c69e-5e55830c518d"
      },
      "execution_count": null,
      "outputs": [
        {
          "output_type": "stream",
          "name": "stdout",
          "text": [
            "8\n"
          ]
        }
      ]
    },
    {
      "cell_type": "markdown",
      "source": [
        "**9. Напишите функцию, которая находит товар с самой высокой ценой в словаре.**"
      ],
      "metadata": {
        "id": "wI-XnuP-GLAl"
      }
    },
    {
      "cell_type": "code",
      "source": [
        "def find_most_expensive(products):\n",
        "    \"\"\"Найти самый дорогой продукт в словаре 'products'.\n",
        "\n",
        "    Параметры:\n",
        "        - products (dict): словарь {продукт: цена}.\n",
        "\n",
        "    Результат:\n",
        "        - str: название самого дорогого продукта.\"\"\"\n",
        "    mx = max(products.values())\n",
        "    for i in products.keys():\n",
        "      if products[i] == mx:\n",
        "        return i\n",
        "\n",
        "product_prices = {'Laptop': 1200, 'Mouse': 25, 'Keyboard': 75, 'Monitor': 300}\n",
        "print(find_most_expensive(product_prices))"
      ],
      "metadata": {
        "colab": {
          "base_uri": "https://localhost:8080/"
        },
        "id": "BdqGeRPXGLQ6",
        "outputId": "2c72cb60-1d0f-44b8-f4ae-90fa54b55ee1"
      },
      "execution_count": null,
      "outputs": [
        {
          "output_type": "stream",
          "name": "stdout",
          "text": [
            "Laptop\n"
          ]
        }
      ]
    },
    {
      "cell_type": "markdown",
      "source": [
        "**10. Напишите функцию, которая находит элементы, уникальные для каждого из\n",
        "двух списков (симметрическая разность).**"
      ],
      "metadata": {
        "id": "hBdrxRVYIMJL"
      }
    },
    {
      "cell_type": "code",
      "source": [
        "def find_symmetric_difference(list1, list2):\n",
        "    \"\"\"Найти элементы, которые есть только в одном из списков.\n",
        "\n",
        "    Параметры:\n",
        "        - list1 (list): первый список.\n",
        "        - list2 (list): второй список.\n",
        "\n",
        "    Результат:\n",
        "        - list: список уникальных для каждого списка элементов.\"\"\"\n",
        "    res = []\n",
        "    s1 = set(list1)\n",
        "    s2 = set(list2)\n",
        "    for i in s1:\n",
        "      if i not in s2:\n",
        "        res.append(i)\n",
        "    for i in s2:\n",
        "      if i not in s1:\n",
        "        res.append(i)\n",
        "    return res\n",
        "\n",
        "\n",
        "store1_products = [\"apple\", \"banana\", \"orange\", \"grape\"]\n",
        "store2_products = [\"banana\", \"kiwi\", \"apple\", \"mango\"]\n",
        "print(find_symmetric_difference(store1_products, store2_products))\n",
        "\n"
      ],
      "metadata": {
        "colab": {
          "base_uri": "https://localhost:8080/"
        },
        "id": "ntrpZVu1IMZw",
        "outputId": "f50e4cb3-2941-4b2e-89d6-b050c872541c"
      },
      "execution_count": null,
      "outputs": [
        {
          "output_type": "stream",
          "name": "stdout",
          "text": [
            "['grape', 'orange', 'mango', 'kiwi']\n"
          ]
        }
      ]
    },
    {
      "cell_type": "markdown",
      "source": [
        "**11. Дан словарь с данными о пользователе. Напишите функцию, которая извлекает\n",
        "значение по вложенному ключу.**"
      ],
      "metadata": {
        "id": "yrwtwOOVLWtM"
      }
    },
    {
      "cell_type": "code",
      "source": [
        "def get_nested_value(data_dict, key_path):\n",
        "    \"\"\"Извлечь значение по списку ключей 'key_path' из словаря 'data_dict'.\n",
        "\n",
        "    Параметры:\n",
        "        - data_dict (dict): вложенный словарь.\n",
        "        - key_path (list): список ключей.\n",
        "\n",
        "    Результат:\n",
        "        - any: искомое значение или None, если путь не существует.\"\"\"\n",
        "    res = data_dict\n",
        "    for i in key_path:\n",
        "      if isinstance(res,dict) and i in res:\n",
        "        res = res[i]\n",
        "      else:\n",
        "        return None\n",
        "    return res\n",
        "\n",
        "\n",
        "\n",
        "user_profile = {\n",
        "    'user_id': 101,\n",
        "    'personal_info': {\n",
        "        'name': 'Анна',\n",
        "        'address': {\n",
        "            'city': 'Москва',\n",
        "            'street': 'Ленина'\n",
        "        }\n",
        "    }\n",
        "}\n",
        "print(get_nested_value(user_profile, ['personal_info', 'address', 'city']))"
      ],
      "metadata": {
        "id": "Oa_UaafiLXDB",
        "colab": {
          "base_uri": "https://localhost:8080/"
        },
        "outputId": "782fdf12-e1d7-43df-c67b-722338de99ca"
      },
      "execution_count": null,
      "outputs": [
        {
          "output_type": "stream",
          "name": "stdout",
          "text": [
            "Москва\n"
          ]
        }
      ]
    },
    {
      "cell_type": "markdown",
      "source": [
        "**12. Напишите функцию, которая обновляет инвентарь (словарь {товар:\n",
        "количество}). Функция принимает текущий инвентарь и список новых поступлений.**"
      ],
      "metadata": {
        "id": "CIeswe8r8EWs"
      }
    },
    {
      "cell_type": "code",
      "source": [
        "def update_inventory(inventory, new_items):\n",
        "    \"\"\"Обновить инвентарь 'inventory' списком новых товаров 'new_items'.\n",
        "\n",
        "    Параметры:\n",
        "        - inventory (dict): словарь {товар: количество}.\n",
        "        - new_items (list): список поступивших товаров.\n",
        "\n",
        "    Результат:\n",
        "        - dict: обновленный словарь инвентаря.\"\"\"\n",
        "    res = {}\n",
        "    for i in new_items:\n",
        "      if i in res:\n",
        "        res[i] += 1\n",
        "      else:\n",
        "        res[i] = 1\n",
        "    for j in inventory:\n",
        "      if j in res:\n",
        "        res[j] = res[j] + inventory[j]\n",
        "    return res\n",
        "\n",
        "\n",
        "\n",
        "\n",
        "current_inventory = {'apples': 10, 'bananas': 15, 'oranges': 5}\n",
        "new_shipment = ['apples', 'apples', 'oranges', 'grapes', 'bananas']\n",
        "print(update_inventory(current_inventory, new_shipment))\n"
      ],
      "metadata": {
        "colab": {
          "base_uri": "https://localhost:8080/"
        },
        "id": "hSV8vLz_3IMO",
        "outputId": "9d51cc28-c8c1-4630-fcca-c8c04576c4af"
      },
      "execution_count": null,
      "outputs": [
        {
          "output_type": "stream",
          "name": "stdout",
          "text": [
            "{'apples': 12, 'oranges': 6, 'grapes': 1, 'bananas': 16}\n"
          ]
        }
      ]
    },
    {
      "cell_type": "markdown",
      "source": [
        "**13. Напишите функцию, которая проверяет, обладает ли пользователь всеми\n",
        "необходимыми правами доступа.**"
      ],
      "metadata": {
        "id": "Nsg0KZRT-dGp"
      }
    },
    {
      "cell_type": "code",
      "source": [
        "def check_permissions(user_permissions, required_permissions):\n",
        "    \"\"\"Проверить, есть ли у пользователя все необходимые права.\n",
        "\n",
        "    Параметры:\n",
        "        - user_permissions (set): множество прав пользователя.\n",
        "        - required_permissions (set): множество требуемых прав.\n",
        "\n",
        "    Результат:\n",
        "        - bool: True, если все права есть, иначе False.\"\"\"\n",
        "    c = 0\n",
        "    for i in required_permissions:\n",
        "      if i in user_permissions:\n",
        "        c += 1\n",
        "    if len(required_perms) == c:\n",
        "      return True\n",
        "    else:\n",
        "      return False\n",
        "\n",
        "\n",
        "user_perms = {'read', 'write', 'comment'}\n",
        "required_perms = {'read', 'write'}\n",
        "print(check_permissions(user_perms, required_perms))\n",
        "print(check_permissions(user_perms, {'read', 'delete'}))"
      ],
      "metadata": {
        "colab": {
          "base_uri": "https://localhost:8080/"
        },
        "id": "Q5mKPuvf-dUc",
        "outputId": "5d0cccae-99aa-4bb4-e521-e723bd59c9b5"
      },
      "execution_count": null,
      "outputs": [
        {
          "output_type": "stream",
          "name": "stdout",
          "text": [
            "True\n",
            "False\n"
          ]
        }
      ]
    },
    {
      "cell_type": "code",
      "source": [
        "def check_permissions(user_permissions, required_permissions):\n",
        "    \"\"\"Проверить, есть ли у пользователя все необходимые права.\n",
        "\n",
        "    Параметры:\n",
        "        - user_permissions (set): множество прав пользователя.\n",
        "        - required_permissions (set): множество требуемых прав.\n",
        "\n",
        "    Результат:\n",
        "        - bool: True, если все права есть, иначе False.\"\"\"\n",
        "\n",
        "    return required_permissions.issubset(user_permissions)\n",
        "\n",
        "\n",
        "user_perms = {'read', 'write', 'comment'}\n",
        "required_perms = {'read', 'write'}\n",
        "print(check_permissions(user_perms, required_perms))\n",
        "print(check_permissions(user_perms, {'read', 'delete'}))"
      ],
      "metadata": {
        "colab": {
          "base_uri": "https://localhost:8080/"
        },
        "id": "0ebrjQVv_idx",
        "outputId": "80ca7b6a-cacc-4e8a-c634-102dba7dc08c"
      },
      "execution_count": null,
      "outputs": [
        {
          "output_type": "stream",
          "name": "stdout",
          "text": [
            "True\n",
            "False\n"
          ]
        }
      ]
    },
    {
      "cell_type": "markdown",
      "source": [
        "**14. Напишите функцию, которая создает словарь из двух списков: один содержит\n",
        "ключи (например, названия полей), а другой — значения.**"
      ],
      "metadata": {
        "id": "63BPo9RC_2i3"
      }
    },
    {
      "cell_type": "code",
      "source": [
        "def create_dict_from_lists(keys, values):\n",
        "    \"\"\"Создать словарь из списка ключей 'keys' и списка значений 'values'.\n",
        "\n",
        "    Параметры:\n",
        "        - keys (list): список ключей.\n",
        "        - values (list): список значений.\n",
        "\n",
        "    Результат:\n",
        "        - dict: созданный словарь.\"\"\"\n",
        "    res = {}\n",
        "    for i in range(0, len(keys)):\n",
        "      res[keys[i]] = values[i]\n",
        "    return res\n",
        "\n",
        "fields = ['name', 'age', 'position']\n",
        "data = ['Иван Петров', 30, 'Аналитик']\n",
        "print(create_dict_from_lists(fields, data))"
      ],
      "metadata": {
        "colab": {
          "base_uri": "https://localhost:8080/"
        },
        "id": "9cWaFQ4b_2u2",
        "outputId": "666485c2-88cb-44a5-b978-c5a8ca8c3d8c"
      },
      "execution_count": null,
      "outputs": [
        {
          "output_type": "stream",
          "name": "stdout",
          "text": [
            "{'name': 'Иван Петров', 'age': 30, 'position': 'Аналитик'}\n"
          ]
        }
      ]
    },
    {
      "cell_type": "markdown",
      "source": [
        "**15. Напишите функцию, которая удаляет из словаря все элементы, значения\n",
        "которых меньше заданного порога.**"
      ],
      "metadata": {
        "id": "dQwo0QlSC35M"
      }
    },
    {
      "cell_type": "code",
      "source": [
        "def remove_below_threshold(data_dict, threshold):\n",
        "    \"\"\"Удалить из 'data_dict' элементы, значения которых ниже 'threshold'.\n",
        "\n",
        "    Параметры:\n",
        "        - data_dict (dict): исходный словарь с числовыми значениями.\n",
        "        - threshold (int): пороговое значение.\n",
        "\n",
        "    Результат:\n",
        "        - dict: отфильтрованный словарь.\"\"\"\n",
        "    res = {}\n",
        "    for i, j in data_dict.items():\n",
        "      if j > threshold:\n",
        "        res[i] = j\n",
        "    return res\n",
        "\n",
        "stock_quantities = {'product_A': 150, 'product_B': 45, 'product_C': 200, 'product_D': 80}\n",
        "print(remove_below_threshold(stock_quantities, 100))\n",
        "\n"
      ],
      "metadata": {
        "colab": {
          "base_uri": "https://localhost:8080/"
        },
        "id": "QQSrpm6yC4JP",
        "outputId": "0f89c1e2-f84e-493b-cfb1-5ac346a9c30b"
      },
      "execution_count": null,
      "outputs": [
        {
          "output_type": "stream",
          "name": "stdout",
          "text": [
            "{'product_A': 150, 'product_C': 200}\n"
          ]
        }
      ]
    }
  ]
}